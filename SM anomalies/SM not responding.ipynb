{
 "cells": [
  {
   "cell_type": "code",
   "execution_count": 1,
   "metadata": {
    "ExecuteTime": {
     "end_time": "2023-05-09T07:33:31.018099Z",
     "start_time": "2023-05-09T07:33:29.705252Z"
    }
   },
   "outputs": [
    {
     "data": {
      "text/html": [
       "<style>.container { width:79% !important; }</style>"
      ],
      "text/plain": [
       "<IPython.core.display.HTML object>"
      ]
     },
     "metadata": {},
     "output_type": "display_data"
    },
    {
     "name": "stdout",
     "output_type": "stream",
     "text": [
      "local aws_cert.py loaded\n"
     ]
    }
   ],
   "source": [
    "import os\n",
    "import sys\n",
    "import warnings\n",
    "import numpy as np\n",
    "import pandas as pd\n",
    "import time\n",
    "import datetime as dt\n",
    "import re\n",
    "\n",
    "from IPython.display import display, HTML, clear_output\n",
    "from IPython.core.interactiveshell import InteractiveShell\n",
    "import ipywidgets as widgets\n",
    "\n",
    "from matplotlib import pyplot as plt\n",
    "import seaborn as sns\n",
    "\n",
    "from pandas.core.common import SettingWithCopyWarning\n",
    "warnings.simplefilter(action=\"ignore\", category=SettingWithCopyWarning)\n",
    "warnings.filterwarnings('ignore')\n",
    "InteractiveShell.ast_node_interactivity = \"all\"\n",
    "display(HTML(\"<style>.container { width:79% !important; }</style>\"))\n",
    "\n",
    "# easier-to-read notebook:\n",
    "from IPython.display import display, HTML, clear_output\n",
    "pd.options.display.max_columns = 70\n",
    "pd.options.display.max_rows = 500\n",
    "%load_ext autoreload\n",
    "%autoreload 2\n",
    "\n",
    "r = re.compile('.*maoz*.')\n",
    "if len(list(filter(r.match, sys.path))) != 0:\n",
    "    PHYTECH_DRIVE_PATH = os.environ['PHYTECH_DRIVE_PATH']\n",
    "    GITHUB_PATH = PHYTECH_DRIVE_PATH + 'GitHub'\n",
    "    DATA_WD = PHYTECH_DRIVE_PATH + '/Data Integrity/SM anomalies/data'\n",
    "    CERT_PATH = PHYTECH_DRIVE_PATH + '/Data'\n",
    "    if CERT_PATH not in sys.path:\n",
    "        sys.path.append(CERT_PATH)\n",
    "    from sql_import_export import SqlImporter\n",
    "    import cert_aws as c\n",
    "    sql_importer = SqlImporter(database = c.database_research, user = c.user_research, password = c.password_research,\n",
    "                                host = c.host_research, port = c.port_research, verbose=True)"
   ]
  },
  {
   "cell_type": "code",
   "execution_count": 2,
   "metadata": {
    "ExecuteTime": {
     "end_time": "2023-05-09T07:33:32.646666Z",
     "start_time": "2023-05-09T07:33:32.591372Z"
    }
   },
   "outputs": [],
   "source": [
    "import project_class_data_extract\n",
    "from logic_parameters import default_latitude, default_height\n",
    "from tqdm import tqdm_notebook\n",
    "#import common_db as cdb"
   ]
  },
  {
   "cell_type": "markdown",
   "metadata": {},
   "source": [
    "- You call the 'Project' class\n",
    "- you bring in the data: project.load_sm_project_data\n",
    "- you apply transformers on the data (to fill missing values, for example): project.apply_transformers()\n",
    " - and then you group the TS by depths:\n",
    "    project.group_data_to_depths()"
   ]
  },
  {
   "cell_type": "code",
   "execution_count": 3,
   "metadata": {
    "ExecuteTime": {
     "end_time": "2023-05-09T07:33:35.304381Z",
     "start_time": "2023-05-09T07:33:35.269673Z"
    }
   },
   "outputs": [],
   "source": [
    "SM_HOURLY_DIFF_FIRST_DEPTH = 0.5\n",
    "SM_HOURLY_DIFF_SECOND_DEPTH = 0.25\n",
    "MIN_IRR_AMOUNT = 1\n",
    "MAX_RESPONDING_EVENTS = 1\n",
    "LOW_RESPONSE_FACTOR = 0.5\n",
    "\n",
    "\n",
    "#project_list = [852093, 871812, 851995, 852015]\n",
    "summary_df = pd.DataFrame()\n",
    "yesterday = (dt.date.today() - dt.timedelta(days=1)).strftime(\"%Y-%m-%d\")\n",
    "start_date = (dt.date.today() - dt.timedelta(days=8)).strftime(\"%Y-%m-%d\")\n",
    "failed_list = []"
   ]
  },
  {
   "cell_type": "code",
   "execution_count": 8,
   "metadata": {
    "ExecuteTime": {
     "end_time": "2023-05-09T07:35:21.006599Z",
     "start_time": "2023-05-09T07:35:17.377939Z"
    }
   },
   "outputs": [
    {
     "name": "stdout",
     "output_type": "stream",
     "text": [
      "Loaded table with 2293 lines from projects_metadata\n"
     ]
    },
    {
     "data": {
      "text/html": [
       "<div>\n",
       "<style scoped>\n",
       "    .dataframe tbody tr th:only-of-type {\n",
       "        vertical-align: middle;\n",
       "    }\n",
       "\n",
       "    .dataframe tbody tr th {\n",
       "        vertical-align: top;\n",
       "    }\n",
       "\n",
       "    .dataframe thead th {\n",
       "        text-align: right;\n",
       "    }\n",
       "</style>\n",
       "<table border=\"1\" class=\"dataframe\">\n",
       "  <thead>\n",
       "    <tr style=\"text-align: right;\">\n",
       "      <th></th>\n",
       "      <th>project_id</th>\n",
       "    </tr>\n",
       "  </thead>\n",
       "  <tbody>\n",
       "    <tr>\n",
       "      <th>0</th>\n",
       "      <td>848545</td>\n",
       "    </tr>\n",
       "    <tr>\n",
       "      <th>1</th>\n",
       "      <td>848547</td>\n",
       "    </tr>\n",
       "    <tr>\n",
       "      <th>2</th>\n",
       "      <td>848548</td>\n",
       "    </tr>\n",
       "    <tr>\n",
       "      <th>3</th>\n",
       "      <td>849303</td>\n",
       "    </tr>\n",
       "    <tr>\n",
       "      <th>4</th>\n",
       "      <td>849304</td>\n",
       "    </tr>\n",
       "    <tr>\n",
       "      <th>...</th>\n",
       "      <td>...</td>\n",
       "    </tr>\n",
       "    <tr>\n",
       "      <th>2288</th>\n",
       "      <td>877954</td>\n",
       "    </tr>\n",
       "    <tr>\n",
       "      <th>2289</th>\n",
       "      <td>878012</td>\n",
       "    </tr>\n",
       "    <tr>\n",
       "      <th>2290</th>\n",
       "      <td>878013</td>\n",
       "    </tr>\n",
       "    <tr>\n",
       "      <th>2291</th>\n",
       "      <td>878566</td>\n",
       "    </tr>\n",
       "    <tr>\n",
       "      <th>2292</th>\n",
       "      <td>878567</td>\n",
       "    </tr>\n",
       "  </tbody>\n",
       "</table>\n",
       "<p>2293 rows × 1 columns</p>\n",
       "</div>"
      ],
      "text/plain": [
       "      project_id\n",
       "0         848545\n",
       "1         848547\n",
       "2         848548\n",
       "3         849303\n",
       "4         849304\n",
       "...          ...\n",
       "2288      877954\n",
       "2289      878012\n",
       "2290      878013\n",
       "2291      878566\n",
       "2292      878567\n",
       "\n",
       "[2293 rows x 1 columns]"
      ]
     },
     "execution_count": 8,
     "metadata": {},
     "output_type": "execute_result"
    }
   ],
   "source": [
    "#project_results = find_not_responding_events(project_data)\n",
    "query = f\"\"\"\n",
    "    SELECT distinct(pm.project_id)\n",
    "    FROM projects_metadata pm\n",
    "    JOIN soil_sensors_metadata ssm\n",
    "    ON pm.project_id = ssm.project_id\n",
    "    JOIN project_irrigation_spans_v2 pis\n",
    "    ON pis.project_id = pm.project_id\n",
    "    WHERE time_zone like '%Los_Angeles'\n",
    "    AND season = 2023\n",
    "    AND type_id IN (90, 91, 92, 98, 117, 118, 124, 127, 135, 137)\n",
    "    AND start_date >= CAST((CAST('{start_date}' AS timestamp)) AS date)\n",
    "    AND active=true\n",
    "    ORDER BY project_id\n",
    "    \"\"\"\n",
    "sql_importer = SqlImporter(query=query, database=c.database_production, user=c.user_production, password=c.password_production,\n",
    "                                host=c.host_production, port=c.port_production, verbose=True)\n",
    "\n",
    "sql_importer.get_data()\n",
    "project_list = sql_importer.data\n",
    "project_list"
   ]
  },
  {
   "cell_type": "code",
   "execution_count": null,
   "metadata": {
    "ExecuteTime": {
     "start_time": "2023-05-09T11:04:52.778Z"
    },
    "scrolled": true
   },
   "outputs": [],
   "source": [
    "for p_id in project_list['project_id'][:50]:\n",
    "    #print(list(project_list['project_id']).index(p_id))\n",
    "    try:\n",
    "        project_data = load_project_data(project_id=p_id, min_date=start_date,\n",
    "                      max_date=yesterday, min_depth=10, max_depth=91, debug=False)\n",
    "        if project_data.valid_project:\n",
    "            if len(project_data.df_irrigation) == 0:\n",
    "                continue\n",
    "            project_df = get_project_results(project_data)\n",
    "            summary_df = pd.concat([summary_df,project_df],axis=0)\n",
    "        else:\n",
    "            failed_list.append(p_id)\n",
    "    except Exception as e:\n",
    "        print(p_id, e)\n",
    "        failed_list.append(p_id)\n",
    "        pass\n",
    "\n",
    "display(summary_df[(summary_df.not_responding_events_count / summary_df.irrigation_events) > 0.5])"
   ]
  },
  {
   "cell_type": "code",
   "execution_count": 118,
   "metadata": {
    "ExecuteTime": {
     "end_time": "2023-05-09T11:03:20.648520Z",
     "start_time": "2023-05-09T11:03:16.618359Z"
    },
    "scrolled": true
   },
   "outputs": [
    {
     "name": "stdout",
     "output_type": "stream",
     "text": [
      "https://app.phytech.com/14596/79944/850176\n"
     ]
    },
    {
     "data": {
      "text/plain": [
       "('project_data.valid_project', False)"
      ]
     },
     "execution_count": 118,
     "metadata": {},
     "output_type": "execute_result"
    }
   ],
   "source": [
    "test_project_data(850176)"
   ]
  },
  {
   "cell_type": "code",
   "execution_count": 88,
   "metadata": {
    "ExecuteTime": {
     "end_time": "2023-05-09T09:20:48.085542Z",
     "start_time": "2023-05-09T09:20:48.043297Z"
    }
   },
   "outputs": [],
   "source": [
    "def test_project_data(p_id, debug=False):\n",
    "    yesterday = (dt.date.today() - dt.timedelta(days=1)).strftime(\"%Y-%m-%d\")\n",
    "    start_date = (dt.date.today() - dt.timedelta(days=8)).strftime(\"%Y-%m-%d\")\n",
    "    try:\n",
    "        project_data = load_project_data(project_id=p_id, min_date=start_date,\n",
    "                      max_date=yesterday, min_depth=10, max_depth=91, debug=debug)\n",
    "    except Exception as e:\n",
    "        print(e)\n",
    "    print(project_data.app_link)\n",
    "    if project_data.valid_project & debug:\n",
    "        display(project_data.df_irrigation[project_data.df_irrigation.amount > MIN_IRR_AMOUNT])\n",
    "\n",
    "    if project_data.valid_project:\n",
    "        projects_df = get_project_results(project_data, False)\n",
    "        return(projects_df)\n",
    "    else:\n",
    "        return('project_data.valid_project', project_data.valid_project)"
   ]
  },
  {
   "cell_type": "code",
   "execution_count": 111,
   "metadata": {
    "ExecuteTime": {
     "end_time": "2023-05-08T15:50:06.642622Z",
     "start_time": "2023-05-08T15:50:06.595554Z"
    },
    "collapsed": true
   },
   "outputs": [
    {
     "data": {
      "text/html": [
       "<div>\n",
       "<style scoped>\n",
       "    .dataframe tbody tr th:only-of-type {\n",
       "        vertical-align: middle;\n",
       "    }\n",
       "\n",
       "    .dataframe tbody tr th {\n",
       "        vertical-align: top;\n",
       "    }\n",
       "\n",
       "    .dataframe thead th {\n",
       "        text-align: right;\n",
       "    }\n",
       "</style>\n",
       "<table border=\"1\" class=\"dataframe\">\n",
       "  <thead>\n",
       "    <tr style=\"text-align: right;\">\n",
       "      <th></th>\n",
       "      <th>project_id</th>\n",
       "      <th>sensor_id</th>\n",
       "      <th>probe_depths</th>\n",
       "      <th>irrigation_events</th>\n",
       "      <th>not_responding_events_count</th>\n",
       "      <th>event_timestamp</th>\n",
       "      <th>support_status</th>\n",
       "      <th>support_updated_at</th>\n",
       "      <th>remarks</th>\n",
       "      <th>link</th>\n",
       "      <th>timezone</th>\n",
       "      <th>max_moisture_diff</th>\n",
       "      <th>days_since_task_complete</th>\n",
       "    </tr>\n",
       "  </thead>\n",
       "  <tbody>\n",
       "    <tr>\n",
       "      <th>0</th>\n",
       "      <td>848547</td>\n",
       "      <td>974505</td>\n",
       "      <td>[16.0, 31.0]</td>\n",
       "      <td>1</td>\n",
       "      <td>1</td>\n",
       "      <td>{2023-05-01 09:19:00}</td>\n",
       "      <td>None</td>\n",
       "      <td>None</td>\n",
       "      <td>{, Not responding to irrigation}</td>\n",
       "      <td>https://app.phytech.com/13909/78721/848547</td>\n",
       "      <td>America/Los_Angeles</td>\n",
       "      <td>NaN</td>\n",
       "      <td>NaN</td>\n",
       "    </tr>\n",
       "    <tr>\n",
       "      <th>0</th>\n",
       "      <td>848548</td>\n",
       "      <td>952232</td>\n",
       "      <td>[16.0, 31.0]</td>\n",
       "      <td>1</td>\n",
       "      <td>0</td>\n",
       "      <td>{}</td>\n",
       "      <td>None</td>\n",
       "      <td>None</td>\n",
       "      <td>{}</td>\n",
       "      <td>https://app.phytech.com/13909/78722/848548</td>\n",
       "      <td>America/Los_Angeles</td>\n",
       "      <td>NaN</td>\n",
       "      <td>NaN</td>\n",
       "    </tr>\n",
       "    <tr>\n",
       "      <th>0</th>\n",
       "      <td>849303</td>\n",
       "      <td>948251</td>\n",
       "      <td>[16.0, 31.0]</td>\n",
       "      <td>1</td>\n",
       "      <td>0</td>\n",
       "      <td>{}</td>\n",
       "      <td>None</td>\n",
       "      <td>None</td>\n",
       "      <td>{}</td>\n",
       "      <td>https://app.phytech.com/14031/78561/849303</td>\n",
       "      <td>America/Los_Angeles</td>\n",
       "      <td>NaN</td>\n",
       "      <td>NaN</td>\n",
       "    </tr>\n",
       "    <tr>\n",
       "      <th>0</th>\n",
       "      <td>849304</td>\n",
       "      <td>971593</td>\n",
       "      <td>[16.0, 31.0]</td>\n",
       "      <td>1</td>\n",
       "      <td>0</td>\n",
       "      <td>{}</td>\n",
       "      <td>new</td>\n",
       "      <td>2023-04-30 00:15:10.953637</td>\n",
       "      <td>{}</td>\n",
       "      <td>https://app.phytech.com/14031/78561/849304</td>\n",
       "      <td>America/Los_Angeles</td>\n",
       "      <td>NaN</td>\n",
       "      <td>NaN</td>\n",
       "    </tr>\n",
       "    <tr>\n",
       "      <th>0</th>\n",
       "      <td>849305</td>\n",
       "      <td>971740</td>\n",
       "      <td>[16.0, 31.0]</td>\n",
       "      <td>1</td>\n",
       "      <td>0</td>\n",
       "      <td>{}</td>\n",
       "      <td>new</td>\n",
       "      <td>2023-04-26 00:45:00.311411</td>\n",
       "      <td>{}</td>\n",
       "      <td>https://app.phytech.com/14031/78561/849305</td>\n",
       "      <td>America/Los_Angeles</td>\n",
       "      <td>NaN</td>\n",
       "      <td>NaN</td>\n",
       "    </tr>\n",
       "  </tbody>\n",
       "</table>\n",
       "</div>"
      ],
      "text/plain": [
       "  project_id sensor_id  probe_depths irrigation_events  \\\n",
       "0     848547    974505  [16.0, 31.0]                 1   \n",
       "0     848548    952232  [16.0, 31.0]                 1   \n",
       "0     849303    948251  [16.0, 31.0]                 1   \n",
       "0     849304    971593  [16.0, 31.0]                 1   \n",
       "0     849305    971740  [16.0, 31.0]                 1   \n",
       "\n",
       "  not_responding_events_count        event_timestamp support_status  \\\n",
       "0                           1  {2023-05-01 09:19:00}           None   \n",
       "0                           0                     {}           None   \n",
       "0                           0                     {}           None   \n",
       "0                           0                     {}            new   \n",
       "0                           0                     {}            new   \n",
       "\n",
       "           support_updated_at                           remarks  \\\n",
       "0                        None  {, Not responding to irrigation}   \n",
       "0                        None                                {}   \n",
       "0                        None                                {}   \n",
       "0  2023-04-30 00:15:10.953637                                {}   \n",
       "0  2023-04-26 00:45:00.311411                                {}   \n",
       "\n",
       "                                         link             timezone  \\\n",
       "0  https://app.phytech.com/13909/78721/848547  America/Los_Angeles   \n",
       "0  https://app.phytech.com/13909/78722/848548  America/Los_Angeles   \n",
       "0  https://app.phytech.com/14031/78561/849303  America/Los_Angeles   \n",
       "0  https://app.phytech.com/14031/78561/849304  America/Los_Angeles   \n",
       "0  https://app.phytech.com/14031/78561/849305  America/Los_Angeles   \n",
       "\n",
       "  max_moisture_diff  days_since_task_complete  \n",
       "0               NaN                       NaN  \n",
       "0               NaN                       NaN  \n",
       "0               NaN                       NaN  \n",
       "0               NaN                       NaN  \n",
       "0               NaN                       NaN  "
      ]
     },
     "execution_count": 111,
     "metadata": {},
     "output_type": "execute_result"
    },
    {
     "data": {
      "text/plain": [
       "0         1.0\n",
       "0         0.0\n",
       "0         0.0\n",
       "0         0.0\n",
       "0         0.0\n",
       "0         0.0\n",
       "0         0.0\n",
       "0         0.0\n",
       "0         0.0\n",
       "0         0.0\n",
       "0         1.0\n",
       "0    0.666667\n",
       "0         0.0\n",
       "0         0.0\n",
       "0         0.5\n",
       "0         0.0\n",
       "0         0.0\n",
       "0         1.0\n",
       "0         0.0\n",
       "0    0.444444\n",
       "0         0.2\n",
       "0         0.0\n",
       "0         0.0\n",
       "0         1.0\n",
       "0         0.0\n",
       "0         0.0\n",
       "0         0.0\n",
       "0    0.666667\n",
       "0        0.25\n",
       "0         0.0\n",
       "0         0.5\n",
       "0         0.0\n",
       "0         0.0\n",
       "0         0.0\n",
       "0         1.0\n",
       "0         1.0\n",
       "0         0.0\n",
       "0         0.0\n",
       "0         0.0\n",
       "0         0.0\n",
       "0         0.0\n",
       "0         0.0\n",
       "0         0.0\n",
       "0         0.0\n",
       "0         0.0\n",
       "0         1.0\n",
       "0    0.666667\n",
       "0         0.0\n",
       "0         1.0\n",
       "0    0.666667\n",
       "0         1.0\n",
       "0         1.0\n",
       "0    0.333333\n",
       "0         0.0\n",
       "0         0.0\n",
       "0         1.0\n",
       "0         0.4\n",
       "0    0.166667\n",
       "0    0.166667\n",
       "0         1.0\n",
       "0         1.0\n",
       "0         1.0\n",
       "0         1.0\n",
       "0    0.333333\n",
       "0         1.0\n",
       "0         1.0\n",
       "0         1.0\n",
       "0         0.0\n",
       "0         0.5\n",
       "0         1.0\n",
       "dtype: object"
      ]
     },
     "execution_count": 111,
     "metadata": {},
     "output_type": "execute_result"
    }
   ],
   "source": [
    "summary_df.head()\n",
    "summary_df['percent_not responding'] = summary_df.not_responding_events_count / summary_df.irrigation_events"
   ]
  },
  {
   "cell_type": "code",
   "execution_count": 97,
   "metadata": {
    "ExecuteTime": {
     "end_time": "2023-05-09T09:59:19.645900Z",
     "start_time": "2023-05-09T09:59:19.569751Z"
    }
   },
   "outputs": [
    {
     "data": {
      "text/plain": [
       "'2023-05-09 12:59:19'"
      ]
     },
     "execution_count": 97,
     "metadata": {},
     "output_type": "execute_result"
    },
    {
     "data": {
      "text/plain": [
       "1683626359.6398451"
      ]
     },
     "execution_count": 97,
     "metadata": {},
     "output_type": "execute_result"
    },
    {
     "data": {
      "text/plain": [
       "7"
      ]
     },
     "execution_count": 97,
     "metadata": {},
     "output_type": "execute_result"
    },
    {
     "data": {
      "text/plain": [
       "{'a': 1}"
      ]
     },
     "execution_count": 97,
     "metadata": {},
     "output_type": "execute_result"
    },
    {
     "data": {
      "text/plain": [
       "dict_values([1])"
      ]
     },
     "execution_count": 97,
     "metadata": {},
     "output_type": "execute_result"
    }
   ],
   "source": [
    "dt.datetime.now().strftime(\"%Y-%m-%d %H:%M:%S\")\n",
    "import time\n",
    " \n",
    "# ts stores the time in seconds\n",
    "time.time()#\n",
    "input_dict = {'2015-01-01': {'time': '8', 'capacity': '5'}, \n",
    "  '2015-01-02': {'time': '8', 'capacity': '7'},\n",
    "  '2015-01-03': {'time': '8', 'capacity': '8'}}\n",
    "max(int(d['capacity']) for d in input_dict.values() if d['capacity'] < '8')\n",
    "d = {}\n",
    "d.update({'a':1})\n",
    "d\n",
    "d.values()\n"
   ]
  },
  {
   "cell_type": "code",
   "execution_count": 107,
   "metadata": {
    "ExecuteTime": {
     "end_time": "2023-05-09T10:12:47.963980Z",
     "start_time": "2023-05-09T10:12:47.923016Z"
    }
   },
   "outputs": [],
   "source": [
    "def get_project_results(project_data, debug=False):\n",
    "    project_results = find_not_responding_events(project_data,debug)\n",
    "    df_irr = project_data.df_irrigation[project_data.df_irrigation.amount > MIN_IRR_AMOUNT]\n",
    "\n",
    "    projects_df = pd.DataFrame(columns=['project_id','sensor_id','probe_depths','irrigation_events',\n",
    "                                      'not_responding_events_count','max_SM_diff', 'event_timestamp',\n",
    "                                       'support_status', 'support_updated_at','days_since_task_complete',\n",
    "                                        'remarks', 'link','timezone'])\n",
    "    project_dict = {}\n",
    "    #max_val = 0\n",
    "    remarks = set()\n",
    "    \n",
    "    project_dict.update({'project_id' : project_data.project_id,\n",
    "                         'sensor_id' : project_data.sensor_id,\n",
    "                         'probe_depths': project_results.get('probe_depths'),\n",
    "                         'irrigation_events' : len(df_irr),\n",
    "                         'not_responding_events_count' : project_results['events_count'], #max_val,\n",
    "                         'link' : project_data.app_link,\n",
    "                         'timezone' : project_data['timezone']})\n",
    "    \n",
    "    # No not_responding events found\n",
    "    if not project_results['events_details']: # empty dict = No events\n",
    "        project_dict.update({'max_SM_diff': None,\n",
    "                             #'probe_depths': None,\n",
    "                             'event_timestamp' : None,\n",
    "                             'remarks' : None})\n",
    "    else:\n",
    "        # find probe with max not responding events\n",
    "        for d in project_results.get('probe_depths'):\n",
    "            remarks.add(project_results.get('events_details')[d]['remarks'])\n",
    "            project_dict.update({'max_SM_diff': max(d['probe SM diff'] for d in project_results['events_details'].values()),\n",
    "                                 #'probe_depths': project_results.get('probe_depths'),\n",
    "                                 'event_timestamp' : project_results.get('event_timestamp'),\n",
    "                                 'remarks' : remarks})\n",
    "    # Find support status information\n",
    "    if not project_data.sensor_support_status:\n",
    "        sensor_status = {'status': None, 'updated_at': None, 'days_since_task_complete': None}\n",
    "    else:\n",
    "        sensor_status = project_data.sensor_support_status_dict[0]\n",
    "        sensor_status['days_since_task_complete'] = (dt.datetime.today().date() -\n",
    "                                    sensor_status['updated_at'].date()).days\n",
    "    \n",
    "    project_dict.update({'support_status' : sensor_status['status'],\n",
    "                         'support_updated_at' : sensor_status['updated_at'],\n",
    "                         'days_since_task_complete': sensor_status['days_since_task_complete']})\n",
    "    \n",
    "    \n",
    "    projects_df = pd.concat([projects_df, pd.DataFrame.from_dict(project_dict,orient='index').T], ignore_index=True)\n",
    "    #projects_df['days_since_task_complete'] =  (dt.datetime.today().date() - projects_df['support_updated_at'][0].date()).days\n",
    "    cols = ['project_id', 'sensor_id', 'probe_depths', 'irrigation_events',\n",
    "       'not_responding_events_count', 'max_SM_diff', 'event_timestamp',\n",
    "       'support_status', 'support_updated_at','days_since_task_complete', 'remarks', 'link', 'timezone']\n",
    "    projects_df = projects_df[cols]\n",
    "    \n",
    "    return(projects_df)"
   ]
  },
  {
   "cell_type": "code",
   "execution_count": 116,
   "metadata": {
    "ExecuteTime": {
     "end_time": "2023-05-09T10:53:49.466109Z",
     "start_time": "2023-05-09T10:53:49.396174Z"
    }
   },
   "outputs": [],
   "source": [
    "def find_not_responding_events(project_data, debug=False):\n",
    "    # initialize\n",
    "    not_responding_SM_sensors_project_dict,probe_events_dict = {},{}\n",
    "    event_timestamp = set()\n",
    "    probe_depths = project_data.df_sm_data.depth_cm.unique()\n",
    "    total = 0\n",
    "    not_responding_SM_sensors_project_dict.update({'probe_depths': list(probe_depths),\n",
    "                                                   'events_count': total,\n",
    "                                                   'events_details': {}})\n",
    "    \n",
    "    df_irr = project_data.df_irrigation[project_data.df_irrigation.amount > MIN_IRR_AMOUNT]\n",
    "    for irr_event_counter,row in df_irr.iterrows():\n",
    "\n",
    "        if debug:\n",
    "            print(f\"irrigation event: {df_irr[irr_event_counter]}\")\n",
    "            \n",
    "        not_responding = False\n",
    "        if row['amount'] > MIN_IRR_AMOUNT:\n",
    "            for probe_depth in probe_depths:\n",
    "                counter=0\n",
    "                ProbeMinMoisture, ProbeMaxMoisture = 0,0\n",
    "                probe_events_list = []\n",
    "\n",
    "                if debug:\n",
    "                    print(\"\\nprobe_depth\", probe_depth)\n",
    "\n",
    "                probe_dict = {}\n",
    "                probe_depth_index = list(probe_depths).index(probe_depth)\n",
    "\n",
    "                probe_local_saturation = project_data.local_saturation_by_depth[probe_depth_index][1]\n",
    "                if project_data.multi_depths_sm[probe_depth].empty: # no SM data for this depth\n",
    "                    probe_dict.update({'irrigation_events': len(df_irr),\n",
    "                                        'events dates': [],\n",
    "                                        'probe SM diff': 0,\n",
    "                                        'remarks': f\"|missing SM data for {probe_depth}\"})\n",
    "                    probe_events_dict[probe_depth] = probe_dict\n",
    "                    continue # check next depth\n",
    "\n",
    "                df = project_data.multi_depths_sm[probe_depth].reset_index(drop=False)\n",
    "                df['date'] = df.local_time.dt.date\n",
    "                #################################\n",
    "                # Not responding conditions:\n",
    "                #\n",
    "                # time frame irrigation span -1hr/ +3hr\n",
    "                # soil moisture hourly diff > SM_HOURLY_DIFF according to depth\n",
    "                # initial probe moisture is less than local saturation minus 0.5%\n",
    "                #################################\n",
    "                df_irr_span = df[(df.local_time > df_irr.start[irr_event_counter] - pd.Timedelta(hours=1)) \n",
    "                                 & (df.local_time < df_irr.end[irr_event_counter] + pd.Timedelta(hours=4))\n",
    "                                ]\n",
    "                if debug:\n",
    "                    print(df_irr.start[irr_event_counter],df_irr.end[irr_event_counter],\n",
    "                            df_irr_span)\n",
    "                ProbeMinMoisture, ProbeMaxMoisture = min(df_irr_span.sm_val), max(df_irr_span.sm_val)\n",
    "                \n",
    "                SM_HOURLY_DIFF = SM_HOURLY_DIFF_FIRST_DEPTH if probe_depth_index==0 else SM_HOURLY_DIFF_SECOND_DEPTH\n",
    "                probe_dict['remarks'] = ''\n",
    "                # check if probe responding = at least one hourly diff above SM_HOURLY_DIFF\n",
    "                if max(df_irr_span.sm_diff) < SM_HOURLY_DIFF:\n",
    "                    # check if the probe initial moisture is near local saturation \n",
    "                    if (\"not_responding\" in project_data.flag) | (max(df_irr_span.sm_val.iloc[:3]) < probe_local_saturation - 0.5):\n",
    "                        counter+=1 # count number of not responding probes\n",
    "                        not_responding = True\n",
    "                        #not_responding_sensor_id = int(project_data.df_sm_data[project_data.df_sm_data['depth_cm']==probe_depth].loc[0,'sensor_id'])\n",
    "                        probe_events_list.append((probe_depth,df_irr.start[irr_event_counter]))\n",
    "                        event_timestamp.add(df_irr.start[irr_event_counter])\n",
    "                        probe_dict['remarks'] = '|Not responding to irrigation'\n",
    "                # Find sensors with low response (low peak in sensor graph)\n",
    "                        if (max(df_irr_span.sm_diff) > SM_HOURLY_DIFF*LOW_RESPONSE_FACTOR) & (max(df_irr_span.sm_diff) < SM_HOURLY_DIFF):\n",
    "                            probe_dict['remarks'] += '|Low sensor respnse'\n",
    "                    else:\n",
    "                        probe_dict['remarks'] += '|probe_local_saturation'\n",
    "                    \n",
    "                    probe_dict['irrigation_events'] = len(df_irr)\n",
    "                    probe_dict['events dates'] = probe_events_list\n",
    "                    probe_dict['probe SM diff'] = ProbeMaxMoisture - ProbeMinMoisture\n",
    "                    probe_events_dict[probe_depth] = probe_dict\n",
    "                else:\n",
    "                    if debug:\n",
    "                        print(f\"responding well, {df_irr.start[irr_event_counter]}\")\n",
    "                    probe_dict.update({'irrigation_events': len(df_irr),\n",
    "                                        'events dates': [],\n",
    "                                        'probe SM diff': max(df_irr_span.sm_val) - min(df_irr_span.sm_val),\n",
    "                                        'remarks': ''})\n",
    "                    probe_events_dict[probe_depth] = probe_dict\n",
    "                    #break\n",
    "\n",
    "                if debug:\n",
    "                    print(f\"max hourly diff: {max(df_irr_span.sm_diff)}\",\n",
    "                            f\"probe local saturation: {probe_local_saturation}\",\n",
    "                            f\"initial probe SM: {max(df_irr_span.sm_val.iloc[:3])}\")\n",
    "            \n",
    "            # count number of not responding probes per irrigation span\n",
    "            if counter == len(probe_depths): # all probes are NOT responding in this irrigation span\n",
    "                probe_dict['remarks'] += '|All probes not responding'\n",
    "\n",
    "            if not_responding:\n",
    "                total+=1\n",
    "            \n",
    "            if debug:\n",
    "                print(f\"\"\"total: {total} ,{df_irr.start[irr_event_counter]} finished\\n######################\"\"\")\n",
    "            not_responding_SM_sensors_project_dict.update({'probe_depths': list(probe_depths),\n",
    "                                                           'events_count': total,\n",
    "                                                           'event_timestamp': event_timestamp,\n",
    "                                                           'events_details': probe_events_dict})\n",
    "        else: # irrigation event amount less than minimum\n",
    "            continue\n",
    "\n",
    "    return(not_responding_SM_sensors_project_dict)"
   ]
  },
  {
   "cell_type": "code",
   "execution_count": 14,
   "metadata": {
    "ExecuteTime": {
     "end_time": "2023-05-07T09:03:35.885935Z",
     "start_time": "2023-05-07T09:03:35.778345Z"
    },
    "hide_input": true
   },
   "outputs": [],
   "source": [
    "def find_not_responding_events_old(project_data, debug=False):\n",
    "    not_responding_SM_sensors_project_dict,probe_events_dict = {},{}\n",
    "    event_timestamp = set()\n",
    "    probe_depths = project_data.df_sm_data.depth_cm.unique()\n",
    "    for probe_depth in probe_depths:\n",
    "        probe_events_list = []\n",
    "        \n",
    "        if debug:\n",
    "            print(\"\\nprobe_depth\", probe_depth)\n",
    "            \n",
    "        probe_dict = {}\n",
    "        counter = 0\n",
    "        probe_depth_index = list(probe_depths).index(probe_depth)\n",
    "        \n",
    "        for irr_event_counter,row in project_data.df_irrigation.iterrows():\n",
    "            #probe_depth = project_data.df_sm_data.depth_cm.unique()[0]\n",
    "            probe_local_saturation = project_data.local_saturation_by_depth[probe_depth_index][1]\n",
    "            df = project_data.multi_depths_sm[probe_depth].reset_index(drop=False)\n",
    "            df['date'] = df.local_time.dt.date\n",
    "\n",
    "            if row['amount'] > MIN_IRR_AMOUNT:\n",
    "                #################################\n",
    "                # Not responding conditions:\n",
    "                #\n",
    "                # time frame irrigation span -1hr/ +3hr\n",
    "                # soil moisture hourly diff > SM_HOURLY_DIFF according to depth\n",
    "                # initial probe moisture is less than local saturation minus 0.5%\n",
    "                #################################\n",
    "                df_irr_span = df[(df.local_time > project_data.df_irrigation.start[irr_event_counter] - pd.Timedelta(hours=1)) \n",
    "                                 & (df.local_time < project_data.df_irrigation.end[irr_event_counter] + pd.Timedelta(hours=4))\n",
    "                                ]\n",
    "                if debug:\n",
    "                    display(project_data.df_irrigation.start[irr_event_counter],project_data.df_irrigation.end[irr_event_counter],\n",
    "                            df_irr_span)\n",
    "                \n",
    "                \n",
    "                SM_HOURLY_DIFF = SM_HOURLY_DIFF_FIRST_DEPTH if probe_depth_index==0 else SM_HOURLY_DIFF_SECOND_DEPTH\n",
    "                probe_dict['remarks'] = ''\n",
    "                # check if probe responding = at least one hourly diff above SM_HOURLY_DIFF\n",
    "                if max(df_irr_span.sm_diff) < SM_HOURLY_DIFF:\n",
    "                    # check if the probe initial moisture is near local saturation \n",
    "                    if (\"not_responding\" in project_data.flag) | (max(df_irr_span.sm_val.iloc[:3]) < probe_local_saturation - 0.5):\n",
    "                        counter+=1 # Not responding to irrigation\n",
    "                        not_responding_sensor_id = int(project_data.df_sm_data[project_data.df_sm_data['depth_cm']==probe_depth].loc[0,'sensor_id'])\n",
    "                        probe_events_list.append((probe_depth,project_data.df_irrigation.start[irr_event_counter]))\n",
    "                        event_timestamp.add(project_data.df_irrigation.start[irr_event_counter])\n",
    "                        probe_dict['remarks'] = 'Not responding to irrigation'\n",
    "                # Find sensors with low response (short peak in sensor graph)\n",
    "                    if (max(df_irr_span.sm_diff) > SM_HOURLY_DIFF*LOW_RESPONSE_FACTOR) & (max(df_irr_span.sm_diff) < SM_HOURLY_DIFF):\n",
    "                        probe_dict['remarks'] = 'Low sensor respnse'\n",
    "\n",
    "                if debug:\n",
    "                    display(f\"max hourly diff: {max(df_irr_span.sm_diff)}\",\n",
    "                            f\"probe local saturation: {probe_local_saturation}\",\n",
    "                            f\"initial probe moisture: {max(df_irr_span.sm_val.iloc[:3])}\")\n",
    "                    \n",
    "            probe_dict['irrigation_events'] = len(project_data.df_irrigation)\n",
    "            probe_dict['not_responding_events_count'] = counter\n",
    "            probe_dict['events dates'] = probe_events_list\n",
    "            probe_events_dict[probe_depth] = probe_dict\n",
    "\n",
    "    not_responding_SM_sensors_project_dict.update({'probe_depths':list(probe_depths),\n",
    "                                                 'event_timestamp':event_timestamp,\n",
    "                                                 'events_details':probe_events_dict})\n",
    "    return(not_responding_SM_sensors_project_dict)\n",
    "\n"
   ]
  },
  {
   "cell_type": "code",
   "execution_count": 412,
   "metadata": {},
   "outputs": [
    {
     "name": "stdout",
     "output_type": "stream",
     "text": [
      "Loaded table with 1 lines from work_order_line_items\n",
      "\n"
     ]
    },
    {
     "data": {
      "text/html": [
       "<div>\n",
       "<style scoped>\n",
       "    .dataframe tbody tr th:only-of-type {\n",
       "        vertical-align: middle;\n",
       "    }\n",
       "\n",
       "    .dataframe tbody tr th {\n",
       "        vertical-align: top;\n",
       "    }\n",
       "\n",
       "    .dataframe thead th {\n",
       "        text-align: right;\n",
       "    }\n",
       "</style>\n",
       "<table border=\"1\" class=\"dataframe\">\n",
       "  <thead>\n",
       "    <tr style=\"text-align: right;\">\n",
       "      <th></th>\n",
       "      <th>sensor_id</th>\n",
       "      <th>updated_at</th>\n",
       "      <th>status</th>\n",
       "    </tr>\n",
       "  </thead>\n",
       "  <tbody>\n",
       "    <tr>\n",
       "      <th>0</th>\n",
       "      <td>934741</td>\n",
       "      <td>2023-04-27 08:52:33.235331</td>\n",
       "      <td>new</td>\n",
       "    </tr>\n",
       "  </tbody>\n",
       "</table>\n",
       "</div>"
      ],
      "text/plain": [
       "  sensor_id                 updated_at status\n",
       "0    934741 2023-04-27 08:52:33.235331    new"
      ]
     },
     "execution_count": 412,
     "metadata": {},
     "output_type": "execute_result"
    }
   ],
   "source": [
    "query = f\"\"\"\n",
    "            SELECT serial_number as sensor_id, updated_at, status\n",
    "            FROM work_order_line_items\n",
    "            WHERE serial_number = '{project_data.sensor_id}'\n",
    "            --AND status not in ('closed','completed')\n",
    "            order by updated_at desc\n",
    "            limit 1\n",
    "        \"\"\"\n",
    "sql_importer = SqlImporter(query=query, database=c.database_ruby_production, user=c.user_production, password=c.password_production, host=c.host_production, port=c.port_production, verbose=True)\n",
    "\n",
    "sql_importer.get_data()\n",
    "sql_importer.data"
   ]
  },
  {
   "cell_type": "code",
   "execution_count": 49,
   "metadata": {
    "ExecuteTime": {
     "end_time": "2023-05-09T08:49:50.194555Z",
     "start_time": "2023-05-09T08:49:50.161533Z"
    }
   },
   "outputs": [],
   "source": [
    "def load_project_data(project_id, min_date, max_date, min_depth=10, max_depth=91, debug=False):\n",
    "    from logic_parameters import default_latitude, default_height,default_max_depth\n",
    "    from project_class_data_extract import Project\n",
    "    project = Project(\n",
    "        project_id=project_id,\n",
    "        min_depth=min_depth,\n",
    "        max_depth=default_max_depth,  # set the depth range we're interested in\n",
    "        min_date=min_date,\n",
    "        max_date=max_date,\n",
    "        debug=debug)\n",
    "\n",
    "    project.load_project_metadata()\n",
    "    project.get_sm_depths()\n",
    "\n",
    "    if len(project.depths_found) == 0:\n",
    "        project.valid_project = False\n",
    "        return project\n",
    "\n",
    "    project.load_sm_project_data(min_depth=project.depths_found[0], max_depth=project.depths_found[-1], )  # change the min/max_depth if you dont want to load all depths\n",
    "    if not project.valid_project:\n",
    "        return project\n",
    "    #project.load_project_weather_data(future=14)  # load the weather date until max_date + 14 days.\n",
    "    project.apply_transformers()\n",
    "    project.group_data_to_depths()\n",
    "    project.load_irrigation_spans()\n",
    "    project.find_probe_local_saturation()\n",
    "\n",
    "    project.meta_data = {'project_id': project.project_id, 'latitude': project.latitude if project.latitude else default_latitude,\n",
    "                         'height': project.height if project.height else default_height, 'app_link': project.app_link}\n",
    "    project.sensor_support_status_dict = project.get_sensor_support_status()\n",
    "    if debug:\n",
    "        print(project.df_sm_data)\n",
    "    return project"
   ]
  },
  {
   "cell_type": "code",
   "execution_count": 29,
   "metadata": {},
   "outputs": [],
   "source": [
    "def transform_data(project_data, depth, max_datetime, max_history_days):\n",
    "    from config.logic_parameters import max_hours_after_peak, rise_th, peak_th\n",
    "    dt = DataTransformer(project_data['meta_data'], project_data['multi_depths_sm'], project_data['weather_data'], depth=depth, max_history_days=max_history_days,\n",
    "                         max_datetime=max_datetime, rise_th=rise_th, peak_th=peak_th)\n",
    "\n",
    "    dt.collect_historical_peak2rise_events()\n",
    "    dt.calc_sm_diffs()\n",
    "    dt.extract_data_from_p2r(max_hours_after_peak=max_hours_after_peak)\n",
    "    dt.add_lower_depth_data()\n",
    "    dt.add_weather_data()\n",
    "    project_data.update({'model_data': dt.data})\n",
    "\n",
    "    model_data = dict(meta_data=project_data['meta_data'], model_data=project_data['model_data'])\n",
    "    run_data = {'depth': dt.depth, 'max_datetime': dt.max_datetime, 'max_history_days': dt.max_history_days}\n",
    "    model_data.update(run_data)\n",
    "    return model_data"
   ]
  },
  {
   "cell_type": "code",
   "execution_count": null,
   "metadata": {},
   "outputs": [],
   "source": [
    "def load_irrigation_spans(self):\n",
    "        query = f\"\"\"\n",
    "            SELECT project_id, amount, start_ts, end_ts, psi, start_date, \n",
    "            timezone('{self.timezone}', to_timestamp(start_ts / 1000)) start_lt,\n",
    "            timezone('{self.timezone}', to_timestamp(end_ts / 1000)) end_lt\n",
    "            FROM {DB_TABLES['project_irrigation_spans']}\n",
    "            WHERE project_id = {self.project_id} \n",
    "            AND start_date >= CAST((CAST('{self.min_date}' AS timestamp)) AS date)\n",
    "            AND start_date <= CAST((CAST('{self.max_date}' AS timestamp)) AS date)\n",
    "        \"\"\"\n",
    "\n",
    "        sql_importer = SqlImporter(query, conn_str=os.environ['DATABASE_URL'], verbose=self.debug)\n",
    "        sql_importer.get_data()\n",
    "        \n",
    "        self.df_irrigation = sql_importer.data.copy().dropna()\n",
    "        self.df_irrigation.rename(columns={'start_lt': 'start', 'end_lt': 'end'}, inplace=True)"
   ]
  }
 ],
 "metadata": {
  "kernelspec": {
   "display_name": "Python 3 (ipykernel)",
   "language": "python",
   "name": "python3"
  },
  "language_info": {
   "codemirror_mode": {
    "name": "ipython",
    "version": 3
   },
   "file_extension": ".py",
   "mimetype": "text/x-python",
   "name": "python",
   "nbconvert_exporter": "python",
   "pygments_lexer": "ipython3",
   "version": "3.9.13"
  },
  "toc": {
   "base_numbering": 1,
   "nav_menu": {},
   "number_sections": true,
   "sideBar": true,
   "skip_h1_title": false,
   "title_cell": "Table of Contents",
   "title_sidebar": "Contents",
   "toc_cell": false,
   "toc_position": {},
   "toc_section_display": true,
   "toc_window_display": false
  },
  "varInspector": {
   "cols": {
    "lenName": 16,
    "lenType": 16,
    "lenVar": 40
   },
   "kernels_config": {
    "python": {
     "delete_cmd_postfix": "",
     "delete_cmd_prefix": "del ",
     "library": "var_list.py",
     "varRefreshCmd": "print(var_dic_list())"
    },
    "r": {
     "delete_cmd_postfix": ") ",
     "delete_cmd_prefix": "rm(",
     "library": "var_list.r",
     "varRefreshCmd": "cat(var_dic_list()) "
    }
   },
   "types_to_exclude": [
    "module",
    "function",
    "builtin_function_or_method",
    "instance",
    "_Feature"
   ],
   "window_display": false
  }
 },
 "nbformat": 4,
 "nbformat_minor": 4
}
